{
 "cells": [
  {
   "cell_type": "markdown",
   "metadata": {},
   "source": [
    "**CE705 Introduction to Programming in Python**"
   ]
  },
  {
   "cell_type": "markdown",
   "metadata": {},
   "source": [
    "*Write a program capable of calculating the \n",
    "instalments of a loan.*"
   ]
  },
  {
   "cell_type": "code",
   "execution_count": 5,
   "metadata": {},
   "outputs": [
    {
     "name": "stdout",
     "output_type": "stream",
     "text": [
      "188.71233644010994\n"
     ]
    }
   ],
   "source": [
    "def calculate_amount(roi, principal_amount, no_of_emi, n_years ):\n",
    "    a = roi * (principal_amount / no_of_emi)\n",
    "    b = 1 - ((roi / no_of_emi) + 1) ** -(no_of_emi * n_years)\n",
    "    return a / b \n",
    "print(calculate_amount(0.05, 10000, 12, 5))"
   ]
  },
  {
   "cell_type": "code",
   "execution_count": 8,
   "metadata": {},
   "outputs": [
    {
     "name": "stdin",
     "output_type": "stream",
     "text": [
      "enter roi : 0.05\n",
      "enter your principal_amt: 10000\n",
      "enter your no_of_emi: 12\n",
      "enter n_years: 5\n"
     ]
    },
    {
     "name": "stdout",
     "output_type": "stream",
     "text": [
      "188.71233644010994\n"
     ]
    }
   ],
   "source": [
    "roi = float(input('enter roi :'))\n",
    "principal_amt = float(input('enter your principal_amt:'))\n",
    "emi = float(input('enter your no_of_emi:'))\n",
    "n_years = float(input('enter n_years:'))\n",
    "Numerator = roi * (principal_amt / emi)\n",
    "Denominator = 1 - ((roi / emi) + 1) ** -(emi * n_years)\n",
    "monthly_payment = Numerator / Denominator\n",
    "print(monthly_payment)"
   ]
  },
  {
   "cell_type": "markdown",
   "metadata": {},
   "source": [
    "*write a function to calculate the \n",
    "area of a circle*"
   ]
  },
  {
   "cell_type": "code",
   "execution_count": 11,
   "metadata": {},
   "outputs": [
    {
     "data": {
      "text/plain": [
       "1256.6370614359173"
      ]
     },
     "execution_count": 11,
     "metadata": {},
     "output_type": "execute_result"
    }
   ],
   "source": [
    "import math\n",
    "def area_circle(radius):\n",
    "    area = math.pi * radius ** 2 \n",
    "    return area\n",
    "area_circle(20)"
   ]
  },
  {
   "cell_type": "code",
   "execution_count": 12,
   "metadata": {},
   "outputs": [
    {
     "data": {
      "text/plain": [
       "31.41592653589793"
      ]
     },
     "execution_count": 12,
     "metadata": {},
     "output_type": "execute_result"
    }
   ],
   "source": [
    "#Write a function called get_circle_perimeter with one argument (radius).  perimeter of a circle: P = 2𝜋𝑟\n",
    "import math\n",
    "def get_circle_perimeter(radius):\n",
    "    perimeter = 2 *math.pi * radius\n",
    "    return perimeter\n",
    "get_circle_perimeter(5)"
   ]
  },
  {
   "cell_type": "markdown",
   "metadata": {},
   "source": [
    "**Write a function called print_name that asks the user first for his first \n",
    "name and then the surname. The function should print on the screen in \n",
    "one line the surname, a comma and then a first name. If the inputs are \n",
    "Renato and Amorim it should appear on the screen:\n",
    "Amorim, Renato**"
   ]
  },
  {
   "cell_type": "code",
   "execution_count": 3,
   "metadata": {},
   "outputs": [
    {
     "name": "stdout",
     "output_type": "stream",
     "text": [
      "('bhaskar', 'praveen_kumar')\n"
     ]
    }
   ],
   "source": [
    "def print_name(first_name, surname):\n",
    "    return surname , first_name\n",
    "print(print_name('praveen_kumar', 'bhaskar'))    "
   ]
  },
  {
   "cell_type": "markdown",
   "metadata": {},
   "source": [
    "**Write a function called print_circle_perandarea with one argument \n",
    "(radius). This function should print the perimeter and the area of a \n",
    "circle. This function should call the other functions you already wrote \n",
    "(you should not write all the code in a single function!)**"
   ]
  },
  {
   "cell_type": "code",
   "execution_count": 41,
   "metadata": {},
   "outputs": [
    {
     "name": "stdout",
     "output_type": "stream",
     "text": [
      "Area of circle: 490.8738521234052\n",
      "perimeter of circle: 78.53981633974483\n"
     ]
    }
   ],
   "source": [
    "def print_circle_perandarea(radius):\n",
    "    print('Area of circle:',area_circle(radius))\n",
    "    print('perimeter of circle:' , get_circle_perimeter(radius))\n",
    "print_circle_perandarea(12.5)"
   ]
  },
  {
   "cell_type": "code",
   "execution_count": 5,
   "metadata": {},
   "outputs": [
    {
     "name": "stdin",
     "output_type": "stream",
     "text": [
      "enter no. of times 2\n",
      "enter no. of times 2\n",
      "enter no. of times 5\n"
     ]
    },
    {
     "name": "stdout",
     "output_type": "stream",
     "text": [
      "32\n"
     ]
    },
    {
     "name": "stdin",
     "output_type": "stream",
     "text": [
      "enter no. of times 2\n",
      "enter no. of times 6\n"
     ]
    },
    {
     "name": "stdout",
     "output_type": "stream",
     "text": [
      "64\n"
     ]
    }
   ],
   "source": [
    "times = int(input('enter no. of times'))\n",
    "for i in range(times):\n",
    "    base =int(input('enter no. of times'))  \n",
    "    exp = int(input('enter no. of times'))\n",
    "    result = base ** exp\n",
    "    print(result)\n",
    "    "
   ]
  },
  {
   "cell_type": "code",
   "execution_count": 9,
   "metadata": {},
   "outputs": [
    {
     "data": {
      "text/plain": [
       "True"
      ]
     },
     "execution_count": 9,
     "metadata": {},
     "output_type": "execute_result"
    }
   ],
   "source": [
    "True and True"
   ]
  },
  {
   "cell_type": "code",
   "execution_count": 14,
   "metadata": {},
   "outputs": [
    {
     "data": {
      "text/plain": [
       "True"
      ]
     },
     "execution_count": 14,
     "metadata": {},
     "output_type": "execute_result"
    }
   ],
   "source": [
    "True or True"
   ]
  },
  {
   "cell_type": "code",
   "execution_count": 17,
   "metadata": {},
   "outputs": [
    {
     "name": "stdout",
     "output_type": "stream",
     "text": [
      "positve\n"
     ]
    }
   ],
   "source": [
    "def predict(num):\n",
    "    if num == 0: \n",
    "        print('Zero')\n",
    "    elif num < 0:\n",
    "        print('negative')\n",
    "    else:\n",
    "        print('positve')\n",
    "predict(1)        "
   ]
  },
  {
   "cell_type": "code",
   "execution_count": 18,
   "metadata": {},
   "outputs": [
    {
     "data": {
      "text/plain": [
       "[0, 1, 2, 3, 4, 5, 6, 7, 8, 9]"
      ]
     },
     "execution_count": 18,
     "metadata": {},
     "output_type": "execute_result"
    }
   ],
   "source": [
    "l = list(range(0,10))\n",
    "l"
   ]
  },
  {
   "cell_type": "code",
   "execution_count": 23,
   "metadata": {},
   "outputs": [
    {
     "name": "stdout",
     "output_type": "stream",
     "text": [
      "9\n"
     ]
    }
   ],
   "source": [
    "highest = 0\n",
    "for i in range(len(l)): \n",
    "    if i >= highest:\n",
    "        highest = i # 1 \n",
    "print(i)        \n",
    "        "
   ]
  },
  {
   "cell_type": "code",
   "execution_count": 24,
   "metadata": {},
   "outputs": [],
   "source": [
    "#4! = 4x3x2x1 = 24"
   ]
  },
  {
   "cell_type": "code",
   "execution_count": 41,
   "metadata": {},
   "outputs": [
    {
     "name": "stdin",
     "output_type": "stream",
     "text": [
      "enetr any numer 4\n"
     ]
    },
    {
     "name": "stdout",
     "output_type": "stream",
     "text": [
      "24\n"
     ]
    }
   ],
   "source": [
    "num = int(input('enetr any numer'))\n",
    "fact = 1\n",
    "for i in range(1,num+1):\n",
    "    fact = fact * i\n",
    "print(fact)\n",
    "    "
   ]
  },
  {
   "cell_type": "code",
   "execution_count": 42,
   "metadata": {},
   "outputs": [
    {
     "name": "stdin",
     "output_type": "stream",
     "text": [
      "enter any number 3\n",
      "enter any number 1\n",
      "enter any number 2\n",
      "enter any number 3\n"
     ]
    }
   ],
   "source": [
    "l = [] \n",
    "times = int(input('enter any number'))\n",
    "for i in range(times):\n",
    "    n = int(input('enter any number'))\n",
    "    l.append(n)"
   ]
  },
  {
   "cell_type": "code",
   "execution_count": 43,
   "metadata": {},
   "outputs": [
    {
     "name": "stdout",
     "output_type": "stream",
     "text": [
      "[1, 2, 3]\n"
     ]
    }
   ],
   "source": [
    "print(l)"
   ]
  },
  {
   "cell_type": "code",
   "execution_count": 44,
   "metadata": {},
   "outputs": [
    {
     "name": "stdout",
     "output_type": "stream",
     "text": [
      "1\n",
      "2\n",
      "3\n"
     ]
    }
   ],
   "source": [
    "for n in l:\n",
    "    if n in l:\n",
    "        print(n)\n",
    "        "
   ]
  },
  {
   "cell_type": "code",
   "execution_count": null,
   "metadata": {},
   "outputs": [],
   "source": []
  }
 ],
 "metadata": {
  "kernelspec": {
   "display_name": "Python 3",
   "language": "python",
   "name": "python3"
  },
  "language_info": {
   "codemirror_mode": {
    "name": "ipython",
    "version": 3
   },
   "file_extension": ".py",
   "mimetype": "text/x-python",
   "name": "python",
   "nbconvert_exporter": "python",
   "pygments_lexer": "ipython3",
   "version": "3.8.5"
  }
 },
 "nbformat": 4,
 "nbformat_minor": 4
}
