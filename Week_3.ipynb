{
 "cells": [
  {
   "cell_type": "code",
   "execution_count": 21,
   "metadata": {},
   "outputs": [
    {
     "name": "stdout",
     "output_type": "stream",
     "text": [
      "average :  20.0\n"
     ]
    }
   ],
   "source": [
    "# average of 3 numbers\n",
    "a = 10 \n",
    "b = 20 \n",
    "c = 30 \n",
    "avg = (a+ b+ c) / 3\n",
    "print('average : ',avg)  "
   ]
  },
  {
   "cell_type": "code",
   "execution_count": 48,
   "metadata": {},
   "outputs": [
    {
     "data": {
      "text/plain": [
       "50.0"
      ]
     },
     "execution_count": 48,
     "metadata": {},
     "output_type": "execute_result"
    }
   ],
   "source": [
    "import numpy as np\n",
    "nums = range(1,100)\n",
    "np.average(nums)  #built- in function"
   ]
  },
  {
   "cell_type": "markdown",
   "metadata": {},
   "source": [
    "**Write some Python code that does the below 10 times:\n",
    "Asks the user for a base and an exponent, and then shows the \n",
    "result of the base to the power of the exponent**"
   ]
  },
  {
   "cell_type": "code",
   "execution_count": null,
   "metadata": {},
   "outputs": [],
   "source": [
    "times= int(input('enter any number'))\n",
    "for i in range(times):\n",
    "    a = int(input('enter a base : '))\n",
    "    b = int(input('enter an exponent : '))\n",
    "    result = a ** b \n",
    "    print('Power is :', result)"
   ]
  },
  {
   "cell_type": "code",
   "execution_count": 17,
   "metadata": {},
   "outputs": [
    {
     "name": "stdin",
     "output_type": "stream",
     "text": [
      "enter a base :  2\n",
      "enter an exponent :  1\n"
     ]
    },
    {
     "name": "stdout",
     "output_type": "stream",
     "text": [
      "Power is : 2\n"
     ]
    },
    {
     "name": "stdin",
     "output_type": "stream",
     "text": [
      "enter a base :  2\n",
      "enter an exponent :  2\n"
     ]
    },
    {
     "name": "stdout",
     "output_type": "stream",
     "text": [
      "Power is : 4\n"
     ]
    },
    {
     "name": "stdin",
     "output_type": "stream",
     "text": [
      "enter a base :  2\n",
      "enter an exponent :  3\n"
     ]
    },
    {
     "name": "stdout",
     "output_type": "stream",
     "text": [
      "Power is : 8\n"
     ]
    },
    {
     "name": "stdin",
     "output_type": "stream",
     "text": [
      "enter a base :  2\n",
      "enter an exponent :  4\n"
     ]
    },
    {
     "name": "stdout",
     "output_type": "stream",
     "text": [
      "Power is : 16\n"
     ]
    },
    {
     "name": "stdin",
     "output_type": "stream",
     "text": [
      "enter a base :  2\n",
      "enter an exponent :  5\n"
     ]
    },
    {
     "name": "stdout",
     "output_type": "stream",
     "text": [
      "Power is : 32\n"
     ]
    },
    {
     "name": "stdin",
     "output_type": "stream",
     "text": [
      "enter a base :  2\n",
      "enter an exponent :  6\n"
     ]
    },
    {
     "name": "stdout",
     "output_type": "stream",
     "text": [
      "Power is : 64\n"
     ]
    },
    {
     "name": "stdin",
     "output_type": "stream",
     "text": [
      "enter a base :  2\n",
      "enter an exponent :  7\n"
     ]
    },
    {
     "name": "stdout",
     "output_type": "stream",
     "text": [
      "Power is : 128\n"
     ]
    },
    {
     "name": "stdin",
     "output_type": "stream",
     "text": [
      "enter a base :  2\n",
      "enter an exponent :  8\n"
     ]
    },
    {
     "name": "stdout",
     "output_type": "stream",
     "text": [
      "Power is : 256\n"
     ]
    },
    {
     "name": "stdin",
     "output_type": "stream",
     "text": [
      "enter a base :  2\n",
      "enter an exponent :  9\n"
     ]
    },
    {
     "name": "stdout",
     "output_type": "stream",
     "text": [
      "Power is : 512\n"
     ]
    },
    {
     "name": "stdin",
     "output_type": "stream",
     "text": [
      "enter a base :  2\n",
      "enter an exponent :  10\n"
     ]
    },
    {
     "name": "stdout",
     "output_type": "stream",
     "text": [
      "Power is : 1024\n"
     ]
    }
   ],
   "source": [
    "for i in range(10):\n",
    "    a = int(input('enter a base : '))\n",
    "    b = int(input('enter an exponent : '))\n",
    "    result = a ** b \n",
    "    print('Power is :', result)"
   ]
  },
  {
   "cell_type": "code",
   "execution_count": 1,
   "metadata": {},
   "outputs": [
    {
     "name": "stdin",
     "output_type": "stream",
     "text": [
      "enter a base :  5\n",
      "enter an exponent :  5\n"
     ]
    },
    {
     "data": {
      "text/plain": [
       "3125"
      ]
     },
     "execution_count": 1,
     "metadata": {},
     "output_type": "execute_result"
    }
   ],
   "source": [
    "def power():\n",
    "    a = int(input('enter a base : '))\n",
    "    b = int(input('enter an exponent : '))\n",
    "    return a ** b \n",
    "power()"
   ]
  },
  {
   "cell_type": "code",
   "execution_count": 17,
   "metadata": {},
   "outputs": [
    {
     "data": {
      "text/plain": [
       "32"
      ]
     },
     "execution_count": 17,
     "metadata": {},
     "output_type": "execute_result"
    }
   ],
   "source": [
    "import numpy as np\n",
    "np.power(2,5)"
   ]
  },
  {
   "cell_type": "markdown",
   "metadata": {},
   "source": [
    "**Write a function that takes one \n",
    "parameter and prints on the screen if \n",
    "the parameters is negative, zero, or \n",
    "positive.**  "
   ]
  },
  {
   "cell_type": "code",
   "execution_count": 4,
   "metadata": {},
   "outputs": [
    {
     "name": "stdout",
     "output_type": "stream",
     "text": [
      "number is negative\n",
      "zero\n",
      "number is positive\n"
     ]
    }
   ],
   "source": [
    "def numbers(num):\n",
    "    if num > 0:\n",
    "        print('number is positive')\n",
    "    elif num < 0:\n",
    "        print('number is negative')\n",
    "    else:\n",
    "        print('zero')\n",
    "numbers(-2)  \n",
    "numbers(0)\n",
    "numbers(12)"
   ]
  },
  {
   "cell_type": "markdown",
   "metadata": {},
   "source": [
    "**Write a function capable of reading two \n",
    "integers from the user. If both integers \n",
    "are the same, print on the screen \n",
    "“same”, if they are different print on the \n",
    "screen the lowest of the two**"
   ]
  },
  {
   "cell_type": "code",
   "execution_count": 43,
   "metadata": {},
   "outputs": [
    {
     "name": "stdout",
     "output_type": "stream",
     "text": [
      "2\n",
      "Same\n",
      "-1\n"
     ]
    }
   ],
   "source": [
    "def sample(num1, num2):\n",
    "    if num1 == num2:\n",
    "        print('Same')\n",
    "    else:\n",
    "        if(num1 <= num2):\n",
    "            print(num1)\n",
    "        else:\n",
    "            print(num2)\n",
    "sample(15,2)    \n",
    "sample(15,15)\n",
    "sample(-1,0)"
   ]
  },
  {
   "cell_type": "code",
   "execution_count": 2,
   "metadata": {},
   "outputs": [
    {
     "data": {
      "text/plain": [
       "0.001"
      ]
     },
     "execution_count": 2,
     "metadata": {},
     "output_type": "execute_result"
    }
   ],
   "source": [
    "import numpy as np\n",
    "num = [10, 20, 0.05, 0.001]\n",
    "np.min(num)"
   ]
  },
  {
   "cell_type": "markdown",
   "metadata": {},
   "source": [
    "**Write a function that reads 10 integers \n",
    "from the user, and then prints on the \n",
    "screen the highest of these**"
   ]
  },
  {
   "cell_type": "code",
   "execution_count": 52,
   "metadata": {},
   "outputs": [
    {
     "name": "stdin",
     "output_type": "stream",
     "text": [
      "Enter a number : 1\n",
      "Enter a number : 2\n",
      "Enter a number : 3\n",
      "Enter a number : 45\n",
      "Enter a number : 654\n",
      "Enter a number : 7887\n",
      "Enter a number : 1221\n",
      "Enter a number : 45512\n",
      "Enter a number : 54\n",
      "Enter a number : 512\n"
     ]
    },
    {
     "name": "stdout",
     "output_type": "stream",
     "text": [
      "Largest = 45512\n"
     ]
    }
   ],
   "source": [
    "largest = 0\n",
    "for i in range(0,10):\n",
    "    n = int(input(\"Enter a number :\"))\n",
    "    if n > largest:\n",
    "        largest = n\n",
    "print(f\"Largest = {largest}\")        # formatting String"
   ]
  },
  {
   "cell_type": "code",
   "execution_count": 66,
   "metadata": {},
   "outputs": [
    {
     "name": "stdin",
     "output_type": "stream",
     "text": [
      "enter a number :  1\n",
      "enter a number :  2\n",
      "enter a number :  3\n",
      "enter a number :  4\n",
      "enter a number :  5\n",
      "enter a number :  6\n",
      "enter a number :  7\n",
      "enter a number :  8\n",
      "enter a number :  9\n",
      "enter a number :  10\n"
     ]
    },
    {
     "name": "stdout",
     "output_type": "stream",
     "text": [
      "[1, 2, 3, 4, 5, 6, 7, 8, 9, 10]\n",
      "largest is : 10\n"
     ]
    }
   ],
   "source": [
    "lst = [] \n",
    "for i in range(10):\n",
    "    nums = int(input('enter a number : '))\n",
    "    lst.append(nums)\n",
    "print(lst)\n",
    "print('largest is :', max(lst))   #in-built function"
   ]
  },
  {
   "cell_type": "markdown",
   "metadata": {},
   "source": [
    "**Write a function called get_distance\n",
    "that returns the Euclidian distance \n",
    "between two 2D points**"
   ]
  },
  {
   "cell_type": "code",
   "execution_count": 68,
   "metadata": {},
   "outputs": [
    {
     "data": {
      "text/plain": [
       "1.414"
      ]
     },
     "execution_count": 68,
     "metadata": {},
     "output_type": "execute_result"
    }
   ],
   "source": [
    "def get_distance(x1,x2,y1,y2):\n",
    "    a = (x2-x1)**2\n",
    "    b = (y2-y1)**2\n",
    "    return  round(((a+b)**0.5), 3)\n",
    "get_distance(x1=1, x2=2, y1=3, y2=4)"
   ]
  },
  {
   "cell_type": "markdown",
   "metadata": {},
   "source": [
    "**Write a function to calculate the factorial of a \n",
    "positive integer n given by the user**"
   ]
  },
  {
   "cell_type": "code",
   "execution_count": 43,
   "metadata": {},
   "outputs": [
    {
     "data": {
      "text/plain": [
       "3628800"
      ]
     },
     "execution_count": 43,
     "metadata": {},
     "output_type": "execute_result"
    }
   ],
   "source": [
    "def factorial(num):\n",
    "    fact = 1\n",
    "    for i in range(1,num+1):\n",
    "        fact = fact*i\n",
    "    return fact     \n",
    "factorial(10)        "
   ]
  },
  {
   "cell_type": "markdown",
   "metadata": {},
   "source": [
    "**Re-write the above using recursion (no for \n",
    "loops)**."
   ]
  },
  {
   "cell_type": "code",
   "execution_count": 7,
   "metadata": {},
   "outputs": [
    {
     "data": {
      "text/plain": [
       "720"
      ]
     },
     "execution_count": 7,
     "metadata": {},
     "output_type": "execute_result"
    }
   ],
   "source": [
    "def factorial_recurse(num):\n",
    "    fact = 1\n",
    "    if num == 0:\n",
    "        return 1\n",
    "    fact = num * factorial_recurse(num-1)\n",
    "    return fact\n",
    "factorial_recurse(6)"
   ]
  },
  {
   "cell_type": "code",
   "execution_count": 26,
   "metadata": {},
   "outputs": [
    {
     "name": "stdout",
     "output_type": "stream",
     "text": [
      "factorial: 24\n"
     ]
    }
   ],
   "source": [
    "#using built-in function\n",
    "import numpy as np\n",
    "import math\n",
    "print('factorial:', np.math.factorial(4))"
   ]
  },
  {
   "cell_type": "markdown",
   "metadata": {},
   "source": [
    "**Fermat’s last theorem says there are no integers a, \n",
    "b, and c such that 𝑎\n",
    "𝑛 + 𝑏\n",
    "𝑛 = 𝑐\n",
    "𝑛\n",
    "for any values n\n",
    "greater than 2 and positive values for a, b and c\n",
    "\n",
    "a) Write a function check_fermat taking 4 \n",
    "parameters (a, b, c, n) that checks if n is greater \n",
    "than 2 and it if the equality holds true it returns \n",
    "true, otherwise false.\n",
    "\n",
    "b) Write a function that calls check_fermat a \n",
    "number of times with different parameters and \n",
    "prints “Fermat was wrong!” if he was.\n"
   ]
  },
  {
   "cell_type": "code",
   "execution_count": 38,
   "metadata": {},
   "outputs": [
    {
     "name": "stdout",
     "output_type": "stream",
     "text": [
      "True\n",
      "False\n"
     ]
    }
   ],
   "source": [
    "def check_fermat(a,b,c,n):\n",
    "    if a**n +b**n == c**n:\n",
    "        print('True')\n",
    "    else:\n",
    "        print('False')\n",
    "check_fermat(1,0,1,2)   \n",
    "check_fermat(1,2,3,4)"
   ]
  },
  {
   "cell_type": "code",
   "execution_count": 64,
   "metadata": {},
   "outputs": [],
   "source": [
    "#lst = []\n",
    "#for i in range(3):\n",
    "#    nums = int(input('enter a number:'))\n",
    "#    lst.append(nums)\n",
    "#print(lst)\n",
    "#lst2 = []\n",
    "#for n in range(len(lst)):\n",
    "#    if lst == 7:\n",
    "#        lst2.append(n)\n",
    "#        print(lst2)"
   ]
  }
 ],
 "metadata": {
  "kernelspec": {
   "display_name": "Python 3",
   "language": "python",
   "name": "python3"
  },
  "language_info": {
   "codemirror_mode": {
    "name": "ipython",
    "version": 3
   },
   "file_extension": ".py",
   "mimetype": "text/x-python",
   "name": "python",
   "nbconvert_exporter": "python",
   "pygments_lexer": "ipython3",
   "version": "3.8.5"
  }
 },
 "nbformat": 4,
 "nbformat_minor": 4
}
