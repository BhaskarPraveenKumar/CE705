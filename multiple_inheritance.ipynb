{
 "cells": [
  {
   "cell_type": "markdown",
   "metadata": {},
   "source": [
    "### Class Person"
   ]
  },
  {
   "cell_type": "code",
   "execution_count": 80,
   "metadata": {},
   "outputs": [],
   "source": [
    "import datetime\n",
    "class person(object):\n",
    "    '''Its details of a person'''\n",
    "    def __init__(self, name = None, dob_day = None, dob_month = None, dob_year = None, password = None):\n",
    "        self.name = name\n",
    "        if dob_day == None or dob_month == None or dob_year == None:\n",
    "            self.dob = None\n",
    "        else :\n",
    "            self.dob = datetime.date(dob_year, dob_month, dob_day)\n",
    "        self.password = password  \n",
    "    def __str__(self):\n",
    "        return 'Name : %s , DOB : %s'%(self.name, self.dob)"
   ]
  },
  {
   "cell_type": "code",
   "execution_count": 81,
   "metadata": {},
   "outputs": [
    {
     "data": {
      "text/plain": [
       "<__main__.person at 0x1910817fe20>"
      ]
     },
     "execution_count": 81,
     "metadata": {},
     "output_type": "execute_result"
    }
   ],
   "source": [
    "aper = person('praveen', 14,10,1993, 123456)\n",
    "aper"
   ]
  },
  {
   "cell_type": "code",
   "execution_count": 82,
   "metadata": {},
   "outputs": [],
   "source": [
    "aper = person('praveen', 14,10,1993, 123456)"
   ]
  },
  {
   "cell_type": "code",
   "execution_count": 83,
   "metadata": {},
   "outputs": [
    {
     "name": "stdout",
     "output_type": "stream",
     "text": [
      "Name : praveen , DOB : 1993-10-14\n"
     ]
    }
   ],
   "source": [
    "print(aper)"
   ]
  },
  {
   "cell_type": "code",
   "execution_count": 84,
   "metadata": {},
   "outputs": [
    {
     "name": "stdout",
     "output_type": "stream",
     "text": [
      "Name : None , DOB : None\n"
     ]
    }
   ],
   "source": [
    "aper2 = person()\n",
    "print(aper2)"
   ]
  },
  {
   "cell_type": "markdown",
   "metadata": {},
   "source": [
    "### inheritance"
   ]
  },
  {
   "cell_type": "code",
   "execution_count": 85,
   "metadata": {},
   "outputs": [],
   "source": [
    "class student(person):\n",
    "    '''details of a student'''\n",
    "    def __int__(self, name = None, dob_day = None, dob_month = None, dob_year = None, marks = []):\n",
    "        self.marks = marks\n",
    "        super(student, self).__init__(name, dob_day,dob_month,dob_year)"
   ]
  },
  {
   "cell_type": "code",
   "execution_count": 86,
   "metadata": {},
   "outputs": [],
   "source": [
    "astu = student()"
   ]
  },
  {
   "cell_type": "code",
   "execution_count": 87,
   "metadata": {},
   "outputs": [
    {
     "name": "stdout",
     "output_type": "stream",
     "text": [
      "Name : None , DOB : None\n"
     ]
    }
   ],
   "source": [
    "print(astu)"
   ]
  },
  {
   "cell_type": "code",
   "execution_count": 88,
   "metadata": {},
   "outputs": [],
   "source": [
    "class lecturer(person):\n",
    "    '''details of a student'''\n",
    "    def __int__(self, name = None, dob_day = None, dob_month = None, dob_year = None, module = []):\n",
    "        self.module = module\n",
    "        super(lecturer, self).__init__(name, dob_day,dob_month,dob_year)"
   ]
  },
  {
   "cell_type": "code",
   "execution_count": 89,
   "metadata": {},
   "outputs": [],
   "source": [
    "alec = lecturer('renato')"
   ]
  },
  {
   "cell_type": "code",
   "execution_count": 90,
   "metadata": {},
   "outputs": [
    {
     "name": "stdout",
     "output_type": "stream",
     "text": [
      "Name : renato , DOB : None\n"
     ]
    }
   ],
   "source": [
    "print(alec)"
   ]
  },
  {
   "cell_type": "code",
   "execution_count": 91,
   "metadata": {},
   "outputs": [],
   "source": [
    "s1 = student('student1', 1,1,1990)\n",
    "s2 = student('student2', 1,1,1991)\n",
    "s3 = student('student3', 1,1,1992)\n",
    "l1 = lecturer('lecture1', 1,1,1990)\n",
    "l2 = lecturer('lecture2', 1,1,1991)\n",
    "l3 = lecturer('lecture3', 1,1,1992)"
   ]
  },
  {
   "cell_type": "code",
   "execution_count": 92,
   "metadata": {},
   "outputs": [],
   "source": [
    "List = [s1,s2,s3,l1,l2,l3]"
   ]
  },
  {
   "cell_type": "code",
   "execution_count": 93,
   "metadata": {},
   "outputs": [
    {
     "name": "stdout",
     "output_type": "stream",
     "text": [
      "Name : student1 , DOB : 1990-01-01\n",
      "Name : student2 , DOB : 1991-01-01\n",
      "Name : student3 , DOB : 1992-01-01\n",
      "Name : lecture1 , DOB : 1990-01-01\n",
      "Name : lecture2 , DOB : 1991-01-01\n",
      "Name : lecture3 , DOB : 1992-01-01\n"
     ]
    }
   ],
   "source": [
    "for p in List:\n",
    "    print(p)"
   ]
  },
  {
   "cell_type": "code",
   "execution_count": 94,
   "metadata": {},
   "outputs": [
    {
     "name": "stdout",
     "output_type": "stream",
     "text": [
      "2021-12-23\n"
     ]
    }
   ],
   "source": [
    "print(datetime.date.today())"
   ]
  },
  {
   "cell_type": "markdown",
   "metadata": {},
   "source": [
    "***Populate a list with 3 Students and 3 Lecturers (give them names and DOB).\n",
    "Write a function that takes the above list as a parameter and then prints on the screen their names and ages in years***"
   ]
  },
  {
   "cell_type": "code",
   "execution_count": 95,
   "metadata": {},
   "outputs": [],
   "source": [
    "def age_years(alist):\n",
    "    for p in alist:\n",
    "        print('Name : {}, Age :{}'.format(p.name, round((datetime.date.today() - p.dob).days / 365 )) )"
   ]
  },
  {
   "cell_type": "code",
   "execution_count": 96,
   "metadata": {},
   "outputs": [
    {
     "name": "stdout",
     "output_type": "stream",
     "text": [
      "Name : student1, Age :32\n",
      "Name : student2, Age :31\n",
      "Name : student3, Age :30\n",
      "Name : lecture1, Age :32\n",
      "Name : lecture2, Age :31\n",
      "Name : lecture3, Age :30\n"
     ]
    }
   ],
   "source": [
    "age_years(List)"
   ]
  },
  {
   "cell_type": "code",
   "execution_count": null,
   "metadata": {},
   "outputs": [],
   "source": []
  }
 ],
 "metadata": {
  "kernelspec": {
   "display_name": "Python 3",
   "language": "python",
   "name": "python3"
  },
  "language_info": {
   "codemirror_mode": {
    "name": "ipython",
    "version": 3
   },
   "file_extension": ".py",
   "mimetype": "text/x-python",
   "name": "python",
   "nbconvert_exporter": "python",
   "pygments_lexer": "ipython3",
   "version": "3.8.5"
  }
 },
 "nbformat": 4,
 "nbformat_minor": 4
}
