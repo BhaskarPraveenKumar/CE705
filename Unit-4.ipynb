{
 "cells": [
  {
   "cell_type": "markdown",
   "metadata": {},
   "source": [
    "**Write a function that receives a dictionary and a string as parameters. Your function should a reverse look up in the dictionary using the string.\n",
    "Eg. If the dictionary is MyDictionary = {'one':'uno', 'two':'dos', 'three':'tres'}\n",
    "And the string is \"dos\" Your function should return the string \"two\"**"
   ]
  },
  {
   "cell_type": "code",
   "execution_count": 7,
   "metadata": {},
   "outputs": [
    {
     "data": {
      "text/plain": [
       "'two'"
      ]
     },
     "execution_count": 7,
     "metadata": {},
     "output_type": "execute_result"
    }
   ],
   "source": [
    "def reverse(dictionary,string):\n",
    "    for key in dictionary:\n",
    "        if dictionary[key] == string:\n",
    "            return key\n",
    "reverse({'one':'uno', 'two':'dos', 'three':'tres'},'dos' )"
   ]
  },
  {
   "cell_type": "markdown",
   "metadata": {},
   "source": [
    "**Write a function that receives two lists. Your function should return a list containing the element-wise sum of the lists.\n",
    "Eg. If you pass [1, 2, 3, 4] and [4, 3, 2, 1] your function should return [5, 5, 5, 5]**"
   ]
  },
  {
   "cell_type": "code",
   "execution_count": 24,
   "metadata": {},
   "outputs": [
    {
     "data": {
      "text/plain": [
       "[5, 5, 5, 5]"
      ]
     },
     "execution_count": 24,
     "metadata": {},
     "output_type": "execute_result"
    }
   ],
   "source": [
    "def sum(list1, list2):\n",
    "    list3 = []\n",
    "    for index in range(len(list1)):\n",
    "        sum = list1[index] + list2[index]\n",
    "        list3.append(sum)\n",
    "    return list3\n",
    "sum([1,2,3,4],[4,3,2,1])    "
   ]
  },
  {
   "cell_type": "markdown",
   "metadata": {},
   "source": [
    "**Write a function that receives a list of numbers and then returns the list sorted.\n",
    "Eg. If the function receives [2, 3, 1, 4] . It should return [1, 2, 3, 4]**"
   ]
  },
  {
   "cell_type": "code",
   "execution_count": 28,
   "metadata": {},
   "outputs": [
    {
     "name": "stdin",
     "output_type": "stream",
     "text": [
      "enter any number 2\n",
      "enter any number 3\n",
      "enter any number 1\n",
      "enter any number 4\n",
      "enter any number 0\n"
     ]
    },
    {
     "name": "stdout",
     "output_type": "stream",
     "text": [
      "[2, 3, 1, 4]\n"
     ]
    },
    {
     "data": {
      "text/plain": [
       "[1, 2, 3, 4]"
      ]
     },
     "execution_count": 28,
     "metadata": {},
     "output_type": "execute_result"
    }
   ],
   "source": [
    "def numbers():\n",
    "    l = []\n",
    "    while True:\n",
    "        n = int(input('enter any number'))\n",
    "        if n == 0:\n",
    "            break\n",
    "        if n > 0:\n",
    "            l.append(n)\n",
    "    print(l)\n",
    "    return sorted(l)\n",
    "numbers()    "
   ]
  },
  {
   "cell_type": "markdown",
   "metadata": {},
   "source": [
    "**Write a function that receives a string as parameter and then returns a dictionary mapping frequency to letters\n",
    "Eg. If the string is ‘hello’ The dictionary should be {1:['h', 'e', 'o'], 2:['l'],}**\n"
   ]
  },
  {
   "cell_type": "code",
   "execution_count": 29,
   "metadata": {},
   "outputs": [
    {
     "name": "stdout",
     "output_type": "stream",
     "text": [
      "{'h': 1, 'e': 1, 'l': 2, 'o': 1}\n"
     ]
    }
   ],
   "source": [
    "string = 'hello'\n",
    "d = {}\n",
    "for letter in string:\n",
    "    if letter in d:\n",
    "        d[letter] += 1          # d[h] = 0+1 => {'h':1}\n",
    "    else:\n",
    "        d[letter] = 1\n",
    "print(d)        "
   ]
  },
  {
   "cell_type": "code",
   "execution_count": 33,
   "metadata": {},
   "outputs": [
    {
     "name": "stdout",
     "output_type": "stream",
     "text": [
      "{'h': 1, 'e': 1, 'l': 2, 'o': 1}\n"
     ]
    }
   ],
   "source": [
    "def word_freq(string):\n",
    "    d = {}\n",
    "    for letter in string:\n",
    "        if letter in d:\n",
    "            d[letter] = d[letter] + 1\n",
    "        else:\n",
    "            d[letter] = 1\n",
    "    print(d)\n",
    "word_freq('hello')"
   ]
  },
  {
   "cell_type": "markdown",
   "metadata": {},
   "source": [
    "**Write a function that receives a list of numbers, and then returns the number that repeats the most (mode).\n",
    "Eg. If you pass [1, 2, 3, 3, 2, 5, 6, 2] Your function should return 2**"
   ]
  },
  {
   "cell_type": "code",
   "execution_count": 55,
   "metadata": {},
   "outputs": [
    {
     "name": "stdout",
     "output_type": "stream",
     "text": [
      "{1: 1, 2: 3, 3: 2, 5: 1, 6: 1}\n",
      "2\n"
     ]
    }
   ],
   "source": [
    "def repeat(lst):\n",
    "    d = {}\n",
    "    for num in lst:\n",
    "        if num in d:\n",
    "            d[num] = d[num] + 1\n",
    "        else:\n",
    "            d[num] = 1\n",
    "    print(d)\n",
    "    max = 0\n",
    "    for keys in d:\n",
    "        if d[keys] > max:\n",
    "            max = d[keys]\n",
    "    print(d[max])      \n",
    "repeat([1,2,3,3,2,5,6,2])"
   ]
  },
  {
   "cell_type": "markdown",
   "metadata": {},
   "source": [
    "**Write a function that allows the user to enter as many numbers as he would like**\n",
    "\n",
    "*Your function should ask the user if he wishes to delete an element, if he does your function should delete the element*\n",
    "\n",
    "*Your function should then return the average of the numbers in the list (after removal)*"
   ]
  },
  {
   "cell_type": "code",
   "execution_count": 73,
   "metadata": {},
   "outputs": [
    {
     "name": "stdin",
     "output_type": "stream",
     "text": [
      "enter any number 3\n",
      "enter any number 2\n",
      "enter any number 1\n",
      "enter any number 0\n"
     ]
    },
    {
     "name": "stdout",
     "output_type": "stream",
     "text": [
      "[3, 2, 1]\n"
     ]
    },
    {
     "name": "stdin",
     "output_type": "stream",
     "text": [
      "do you want delete any element :\"yes\" or \"no\"  yes\n",
      "which number do you want to delete 1\n"
     ]
    },
    {
     "name": "stdout",
     "output_type": "stream",
     "text": [
      "after del list : [3, 2]\n",
      "average of new list is : 2.5\n"
     ]
    }
   ],
   "source": [
    "def numbers():\n",
    "    l = []\n",
    "    while True:\n",
    "        n = int(input('enter any number'))\n",
    "        if n == 0:\n",
    "            break\n",
    "        if n > 0:\n",
    "            l.append(n)\n",
    "    print(l)\n",
    "    ask = input('do you want delete any element :\"yes\" or \"no\" ')\n",
    "    if ask == 'yes':\n",
    "        delete = int(input('which number do you want to delete'))\n",
    "        l.remove(delete)\n",
    "        print('after del list :',l)\n",
    "    else: \n",
    "        print(l)\n",
    "    sum = 0\n",
    "    for n in l:\n",
    "        sum += n\n",
    "    print('average of new list is :',sum / len(l))    \n",
    "numbers()        "
   ]
  },
  {
   "cell_type": "code",
   "execution_count": null,
   "metadata": {},
   "outputs": [],
   "source": []
  }
 ],
 "metadata": {
  "kernelspec": {
   "display_name": "Python 3",
   "language": "python",
   "name": "python3"
  },
  "language_info": {
   "codemirror_mode": {
    "name": "ipython",
    "version": 3
   },
   "file_extension": ".py",
   "mimetype": "text/x-python",
   "name": "python",
   "nbconvert_exporter": "python",
   "pygments_lexer": "ipython3",
   "version": "3.8.5"
  }
 },
 "nbformat": 4,
 "nbformat_minor": 4
}
